{
 "cells": [
  {
   "cell_type": "code",
   "execution_count": 1,
   "metadata": {},
   "outputs": [],
   "source": [
    "from sklearn.datasets import load_iris\n",
    "from sklearn.model_selection import train_test_split\n",
    "from sklearn.ensemble import RandomForestClassifier\n",
    "import joblib"
   ]
  },
  {
   "cell_type": "code",
   "execution_count": 2,
   "metadata": {},
   "outputs": [
    {
     "data": {
      "text/plain": [
       "['models/random_forest.pkl']"
      ]
     },
     "execution_count": 2,
     "metadata": {},
     "output_type": "execute_result"
    }
   ],
   "source": [
    "iris = load_iris()\n",
    "X,y = iris.data, iris.target\n",
    "X_train, X_test, y_train, y_test = train_test_split(X, y, test_size=0.3, random_state=42)\n",
    "clf = RandomForestClassifier()\n",
    "clf.fit(X_train, y_train)\n",
    "joblib.dump(clf, 'models/random_forest.pkl')"
   ]
  },
  {
   "cell_type": "code",
   "execution_count": 15,
   "metadata": {},
   "outputs": [],
   "source": [
    "# Import necessary libraries for converting scikit-learn model to ONNX format\n",
    "from skl2onnx import convert_sklearn\n",
    "from skl2onnx.common.data_types import FloatTensorType\n",
    "\n",
    "# Load the pre-trained scikit-learn Random Forest model from a pickle file\n",
    "cls = joblib.load('./models/random_forest.pkl')\n",
    "\n",
    "# Define the input type expected by the model\n",
    "# - Name: 'float_input'\n",
    "# - Data type: FloatTensorType\n",
    "# - Shape: [None, 4] (None indicates variable batch size, 4 features)\n",
    "initial_type = [('float_input', FloatTensorType([None, 4]))]\n",
    "\n",
    "# Convert the scikit-learn model to ONNX format\n",
    "onnx_model = convert_sklearn(cls, initial_types=initial_type)\n",
    "\n",
    "# Open the output file in binary write mode\n",
    "with open('./models/model.onnx', 'wb') as output:\n",
    "\n",
    "    # Write the serialized ONNX model to the file\n",
    "    output.write(onnx_model.SerializeToString())\n"
   ]
  },
  {
   "cell_type": "code",
   "execution_count": 10,
   "metadata": {},
   "outputs": [
    {
     "data": {
      "text/plain": [
       "array([2, 2, 0], dtype=int64)"
      ]
     },
     "execution_count": 10,
     "metadata": {},
     "output_type": "execute_result"
    }
   ],
   "source": [
    "import onnxruntime as rt\n",
    "import numpy as np\n",
    "\n",
    "data = np.array([[4.5,4.9,5.1,5.4], [4.7,4.1,5.1,5.1], [1.1,1.1,1.3,5.9]])\n",
    "session = rt.InferenceSession(\"./models/model.onnx\")\n",
    "\n",
    "ip = session.get_inputs()[0].name\n",
    "op = session.get_outputs()[0].name\n",
    "\n",
    "preds = session.run([op], {ip : data.astype(np.float32)})[0]\n",
    "preds"
   ]
  },
  {
   "cell_type": "code",
   "execution_count": 16,
   "metadata": {},
   "outputs": [
    {
     "name": "stdout",
     "output_type": "stream",
     "text": [
      "[2 2 0]\n"
     ]
    }
   ],
   "source": [
    "import concurrent.futures\n",
    "\n",
    "def run_inference_async(data, session, ip, op, num_threads=4):\n",
    "    \"\"\"\n",
    "    Runs inference asynchronously using a ThreadPoolExecutor.\n",
    "\n",
    "    Args:\n",
    "        data (np.ndarray): Input data for inference.\n",
    "        session (rt.InferenceSession): ONNX Runtime session.\n",
    "        ip (str): Input name.\n",
    "        op (str): Output name.\n",
    "        num_threads (int, optional): Number of threads to use. Defaults to 4.\n",
    "\n",
    "    Returns:\n",
    "        np.ndarray: Prediction results.\n",
    "    \"\"\"\n",
    "\n",
    "    with concurrent.futures.ThreadPoolExecutor(max_workers=num_threads) as executor:\n",
    "        future = executor.submit(lambda: session.run([op], {ip: data.astype(np.float32)})[0])\n",
    "        return future.result()\n",
    "    \n",
    "\n",
    "num_threads = 8  # You can set the desired number of threads here\n",
    "\n",
    "preds = run_inference_async(data, session, ip, op, num_threads=num_threads)\n",
    "print(preds)\n"
   ]
  },
  {
   "cell_type": "code",
   "execution_count": 13,
   "metadata": {},
   "outputs": [
    {
     "data": {
      "text/plain": [
       "'float_input'"
      ]
     },
     "execution_count": 13,
     "metadata": {},
     "output_type": "execute_result"
    }
   ],
   "source": [
    "ip"
   ]
  },
  {
   "cell_type": "code",
   "execution_count": 14,
   "metadata": {},
   "outputs": [
    {
     "data": {
      "text/plain": [
       "'output_label'"
      ]
     },
     "execution_count": 14,
     "metadata": {},
     "output_type": "execute_result"
    }
   ],
   "source": [
    "op"
   ]
  },
  {
   "cell_type": "code",
   "execution_count": null,
   "metadata": {},
   "outputs": [],
   "source": []
  }
 ],
 "metadata": {
  "kernelspec": {
   "display_name": "DataScienceML",
   "language": "python",
   "name": "python3"
  },
  "language_info": {
   "codemirror_mode": {
    "name": "ipython",
    "version": 3
   },
   "file_extension": ".py",
   "mimetype": "text/x-python",
   "name": "python",
   "nbconvert_exporter": "python",
   "pygments_lexer": "ipython3",
   "version": "3.10.13"
  }
 },
 "nbformat": 4,
 "nbformat_minor": 2
}
