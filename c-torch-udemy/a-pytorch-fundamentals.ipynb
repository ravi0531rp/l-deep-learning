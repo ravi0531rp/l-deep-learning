{
 "cells": [
  {
   "cell_type": "code",
   "execution_count": 1,
   "metadata": {},
   "outputs": [],
   "source": [
    "import torch"
   ]
  },
  {
   "cell_type": "code",
   "execution_count": 2,
   "metadata": {},
   "outputs": [
    {
     "data": {
      "text/plain": [
       "True"
      ]
     },
     "execution_count": 2,
     "metadata": {},
     "output_type": "execute_result"
    }
   ],
   "source": [
    "torch.cuda.is_available()"
   ]
  },
  {
   "cell_type": "markdown",
   "metadata": {},
   "source": [
    "## Tensors basics"
   ]
  },
  {
   "cell_type": "code",
   "execution_count": 7,
   "metadata": {},
   "outputs": [
    {
     "name": "stdout",
     "output_type": "stream",
     "text": [
      "tensor(7)\n",
      "0\n",
      "7\n"
     ]
    }
   ],
   "source": [
    "var = torch.tensor(7)\n",
    "print(var)\n",
    "print(var.ndim)\n",
    "print(var.item())"
   ]
  },
  {
   "cell_type": "code",
   "execution_count": 10,
   "metadata": {},
   "outputs": [
    {
     "name": "stdout",
     "output_type": "stream",
     "text": [
      "tensor([7, 7])\n",
      "1\n",
      "torch.Size([2])\n"
     ]
    }
   ],
   "source": [
    "vec = torch.tensor([7, 7])\n",
    "print(vec)\n",
    "print(vec.ndim)\n",
    "print(vec.shape)"
   ]
  },
  {
   "cell_type": "code",
   "execution_count": 12,
   "metadata": {},
   "outputs": [
    {
     "name": "stdout",
     "output_type": "stream",
     "text": [
      "tensor([[ 3.0000,  4.1000],\n",
      "        [ 9.0000, -1.0000]])\n",
      "2\n",
      "torch.Size([2, 2])\n"
     ]
    }
   ],
   "source": [
    "MATRIX = torch.tensor([[3,4.1], [9, -1]])\n",
    "print(MATRIX)\n",
    "print(MATRIX.ndim)\n",
    "print(MATRIX.shape)"
   ]
  },
  {
   "cell_type": "code",
   "execution_count": 16,
   "metadata": {},
   "outputs": [
    {
     "name": "stdout",
     "output_type": "stream",
     "text": [
      "tensor([3.0000, 4.1000])\n",
      "tensor(9.)\n",
      "tensor([3.0000, 4.1000])\n",
      "tensor([3.0000, 4.1000])\n"
     ]
    }
   ],
   "source": [
    "print(MATRIX[0])\n",
    "print(MATRIX[1][0])\n",
    "print(MATRIX[:][0])"
   ]
  },
  {
   "cell_type": "code",
   "execution_count": 24,
   "metadata": {},
   "outputs": [
    {
     "name": "stdout",
     "output_type": "stream",
     "text": [
      "tensor([[[1, 2, 3],\n",
      "         [4, 5, 6]]])\n",
      "3\n",
      "torch.Size([1, 2, 3])\n"
     ]
    }
   ],
   "source": [
    "TENSOR = torch.tensor(\n",
    "    [\n",
    "        [\n",
    "            [1,2,3],\n",
    "            [4,5,6]\n",
    "        ]\n",
    "    ]\n",
    ")\n",
    "\n",
    "print(TENSOR)\n",
    "print(TENSOR.ndim)\n",
    "print(TENSOR.shape)"
   ]
  },
  {
   "cell_type": "code",
   "execution_count": 19,
   "metadata": {},
   "outputs": [
    {
     "data": {
      "text/plain": [
       "tensor([[1, 2, 3],\n",
       "        [4, 5, 6]])"
      ]
     },
     "execution_count": 19,
     "metadata": {},
     "output_type": "execute_result"
    }
   ],
   "source": [
    "TENSOR[0]"
   ]
  },
  {
   "cell_type": "code",
   "execution_count": 22,
   "metadata": {},
   "outputs": [
    {
     "data": {
      "text/plain": [
       "tensor([1, 2, 3])"
      ]
     },
     "execution_count": 22,
     "metadata": {},
     "output_type": "execute_result"
    }
   ],
   "source": [
    "TENSOR[0][0]"
   ]
  },
  {
   "cell_type": "code",
   "execution_count": 25,
   "metadata": {},
   "outputs": [
    {
     "name": "stdout",
     "output_type": "stream",
     "text": [
      "tensor([[9.8296e-01, 5.4342e-01, 6.5771e-01, 8.8094e-01],\n",
      "        [9.5986e-01, 5.2897e-01, 4.0173e-01, 3.1790e-01],\n",
      "        [4.3434e-04, 9.4538e-01, 4.2829e-01, 1.0020e-01]])\n"
     ]
    }
   ],
   "source": [
    "random_tensor = torch.rand(3, 4)  # size = (3, 4) as params\n",
    "print(random_tensor)"
   ]
  },
  {
   "cell_type": "code",
   "execution_count": 26,
   "metadata": {},
   "outputs": [
    {
     "name": "stdout",
     "output_type": "stream",
     "text": [
      "tensor([[[0.4904, 0.0532, 0.5115, 0.3529],\n",
      "         [0.2615, 0.4762, 0.4745, 0.2842],\n",
      "         [0.4264, 0.5343, 0.4806, 0.0878]]])\n"
     ]
    }
   ],
   "source": [
    "random_tensor = torch.rand(1, 3, 4)\n",
    "print(random_tensor)"
   ]
  },
  {
   "cell_type": "code",
   "execution_count": 27,
   "metadata": {},
   "outputs": [
    {
     "name": "stdout",
     "output_type": "stream",
     "text": [
      "tensor([[[0.5531, 0.9460, 0.7111, 0.5016],\n",
      "         [0.4930, 0.2273, 0.1711, 0.6614],\n",
      "         [0.2993, 0.3630, 0.1293, 0.3620]],\n",
      "\n",
      "        [[0.6181, 0.2645, 0.7721, 0.0249],\n",
      "         [0.6916, 0.8260, 0.2721, 0.1360],\n",
      "         [0.1296, 0.6350, 0.0410, 0.5590]]])\n"
     ]
    }
   ],
   "source": [
    "random_tensor = torch.rand(2, 3, 4)\n",
    "print(random_tensor)"
   ]
  },
  {
   "cell_type": "code",
   "execution_count": 29,
   "metadata": {},
   "outputs": [
    {
     "name": "stdout",
     "output_type": "stream",
     "text": [
      "tensor([[[0.8857, 0.4641, 0.1754, 0.8312],\n",
      "         [0.5424, 0.4473, 0.1672, 0.8553],\n",
      "         [0.1809, 0.9471, 0.6188, 0.1314]],\n",
      "\n",
      "        [[0.5200, 0.6144, 0.2606, 0.6996],\n",
      "         [0.9759, 0.4414, 0.0490, 0.0474],\n",
      "         [0.8593, 0.2140, 0.0909, 0.4026]]])\n"
     ]
    }
   ],
   "source": [
    "alike_tensor = torch.rand_like(random_tensor)\n",
    "print(alike_tensor)"
   ]
  },
  {
   "cell_type": "code",
   "execution_count": 35,
   "metadata": {},
   "outputs": [
    {
     "name": "stdout",
     "output_type": "stream",
     "text": [
      "2 3 4\n"
     ]
    }
   ],
   "source": [
    "a,b,c = alike_tensor.shape\n",
    "print(a,b,c)"
   ]
  },
  {
   "cell_type": "code",
   "execution_count": 36,
   "metadata": {},
   "outputs": [
    {
     "name": "stdout",
     "output_type": "stream",
     "text": [
      "tensor([[0., 0., 0., 0.],\n",
      "        [0., 0., 0., 0.],\n",
      "        [0., 0., 0., 0.]])\n",
      "tensor([[0., 0., 0., 0.],\n",
      "        [0., 0., 0., 0.],\n",
      "        [0., 0., 0., 0.]])\n"
     ]
    }
   ],
   "source": [
    "zeros = torch.zeros(size = (3, 4))\n",
    "new_zeros = torch.zeros_like(zeros)\n",
    "\n",
    "print(zeros)\n",
    "\n",
    "print(new_zeros)"
   ]
  },
  {
   "cell_type": "code",
   "execution_count": 38,
   "metadata": {},
   "outputs": [
    {
     "name": "stdout",
     "output_type": "stream",
     "text": [
      "tensor([[1., 1., 1., 1.],\n",
      "        [1., 1., 1., 1.],\n",
      "        [1., 1., 1., 1.]])\n",
      "tensor([[1., 1., 1., 1.],\n",
      "        [1., 1., 1., 1.],\n",
      "        [1., 1., 1., 1.]])\n"
     ]
    }
   ],
   "source": [
    "ones = torch.ones(size = (3, 4))\n",
    "new_ones = torch.ones_like(zeros)\n",
    "\n",
    "print(ones)\n",
    "\n",
    "print(new_ones)"
   ]
  },
  {
   "cell_type": "code",
   "execution_count": 43,
   "metadata": {},
   "outputs": [
    {
     "data": {
      "text/plain": [
       "tensor([[0.8496, 0.4888, 0.5889, 0.3457],\n",
       "        [0.8276, 0.8481, 0.8306, 0.7969],\n",
       "        [0.5308, 0.4185, 0.8745, 0.3599]], dtype=torch.float16)"
      ]
     },
     "execution_count": 43,
     "metadata": {},
     "output_type": "execute_result"
    }
   ],
   "source": [
    "var = torch.rand(size = (3, 4), dtype=torch.float16)\n",
    "var"
   ]
  },
  {
   "cell_type": "code",
   "execution_count": 45,
   "metadata": {},
   "outputs": [
    {
     "data": {
      "text/plain": [
       "tensor([ 1,  4,  7, 10, 13, 16, 19])"
      ]
     },
     "execution_count": 45,
     "metadata": {},
     "output_type": "execute_result"
    }
   ],
   "source": [
    "torch.arange(start= 1, end = 20, step = 3)"
   ]
  },
  {
   "cell_type": "markdown",
   "metadata": {},
   "source": [
    "## Manipulating Tensors"
   ]
  },
  {
   "cell_type": "code",
   "execution_count": 3,
   "metadata": {},
   "outputs": [],
   "source": [
    "tens = torch.rand(size = (3,4), \n",
    "                  dtype= torch.float32,\n",
    "                  device= torch.device(\"cuda\"),\n",
    "                  requires_grad= True\n",
    "                  )"
   ]
  },
  {
   "cell_type": "code",
   "execution_count": 32,
   "metadata": {},
   "outputs": [
    {
     "data": {
      "text/plain": [
       "tensor([[0.8046, 0.1031, 0.1014, 0.9716],\n",
       "        [0.5585, 0.5305, 0.3769, 0.5630],\n",
       "        [0.5666, 0.0927, 0.0645, 0.2162]], requires_grad=True)"
      ]
     },
     "execution_count": 32,
     "metadata": {},
     "output_type": "execute_result"
    }
   ],
   "source": [
    "tens2 = torch.rand(size = (3,4), \n",
    "                  dtype= torch.float32,\n",
    "                  device= torch.device(\"cpu\"),\n",
    "                  requires_grad= True\n",
    "                  )\n",
    "tens2"
   ]
  },
  {
   "cell_type": "code",
   "execution_count": 9,
   "metadata": {},
   "outputs": [],
   "source": [
    "tens2 = tens2.type(torch.float16)"
   ]
  },
  {
   "cell_type": "code",
   "execution_count": 14,
   "metadata": {},
   "outputs": [
    {
     "data": {
      "text/plain": [
       "tensor([[0.1653, 0.1965, 0.6277, 0.5939],\n",
       "        [0.0469, 0.0909, 0.5311, 0.0908],\n",
       "        [0.0057, 0.0966, 0.2947, 0.0857]], device='cuda:0',\n",
       "       grad_fn=<MulBackward0>)"
      ]
     },
     "execution_count": 14,
     "metadata": {},
     "output_type": "execute_result"
    }
   ],
   "source": [
    "tens * tens # pairwise multiplication"
   ]
  },
  {
   "cell_type": "code",
   "execution_count": 13,
   "metadata": {},
   "outputs": [
    {
     "data": {
      "text/plain": [
       "tensor([[1.5834, 1.0313, 0.8242],\n",
       "        [1.0313, 0.7597, 0.5939],\n",
       "        [0.8242, 0.5939, 0.4826]], device='cuda:0', grad_fn=<MmBackward0>)"
      ]
     },
     "execution_count": 13,
     "metadata": {},
     "output_type": "execute_result"
    }
   ],
   "source": [
    "tens @ tens.T  # actual matrix multiplication. (3,4) @ (4,3) -> (3,3)"
   ]
  },
  {
   "cell_type": "code",
   "execution_count": 15,
   "metadata": {},
   "outputs": [
    {
     "name": "stdout",
     "output_type": "stream",
     "text": [
      "cuda:0\n",
      "torch.float32\n",
      "torch.Size([3, 4])\n",
      "2\n"
     ]
    }
   ],
   "source": [
    "print(tens.device)\n",
    "print(tens.dtype)\n",
    "print(tens.shape)\n",
    "print(tens.ndim)"
   ]
  },
  {
   "cell_type": "code",
   "execution_count": 16,
   "metadata": {},
   "outputs": [
    {
     "data": {
      "text/plain": [
       "tensor([[0.1869, 0.8683, 0.4615, 0.9285],\n",
       "        [0.3724, 0.0210, 0.6983, 0.2200],\n",
       "        [0.5751, 0.6201, 0.6311, 0.7571]])"
      ]
     },
     "execution_count": 16,
     "metadata": {},
     "output_type": "execute_result"
    }
   ],
   "source": [
    "tensor = torch.rand(size = (3,4))\n",
    "tensor"
   ]
  },
  {
   "cell_type": "code",
   "execution_count": 17,
   "metadata": {},
   "outputs": [
    {
     "data": {
      "text/plain": [
       "tensor([[2.1869, 2.8683, 2.4615, 2.9285],\n",
       "        [2.3724, 2.0210, 2.6983, 2.2200],\n",
       "        [2.5751, 2.6201, 2.6311, 2.7571]])"
      ]
     },
     "execution_count": 17,
     "metadata": {},
     "output_type": "execute_result"
    }
   ],
   "source": [
    "tensor + 2"
   ]
  },
  {
   "cell_type": "code",
   "execution_count": 18,
   "metadata": {},
   "outputs": [
    {
     "data": {
      "text/plain": [
       "tensor([[1.8687, 8.6834, 4.6149, 9.2851],\n",
       "        [3.7236, 0.2096, 6.9832, 2.2005],\n",
       "        [5.7508, 6.2007, 6.3106, 7.5713]])"
      ]
     },
     "execution_count": 18,
     "metadata": {},
     "output_type": "execute_result"
    }
   ],
   "source": [
    "tensor * 10"
   ]
  },
  {
   "cell_type": "code",
   "execution_count": 19,
   "metadata": {},
   "outputs": [
    {
     "data": {
      "text/plain": [
       "tensor([[0.0187, 0.0868, 0.0461, 0.0929],\n",
       "        [0.0372, 0.0021, 0.0698, 0.0220],\n",
       "        [0.0575, 0.0620, 0.0631, 0.0757]])"
      ]
     },
     "execution_count": 19,
     "metadata": {},
     "output_type": "execute_result"
    }
   ],
   "source": [
    "tensor/10"
   ]
  },
  {
   "cell_type": "code",
   "execution_count": 22,
   "metadata": {},
   "outputs": [
    {
     "data": {
      "text/plain": [
       "tensor([[0.3737, 1.7367, 0.9230, 1.8570],\n",
       "        [0.7447, 0.0419, 1.3966, 0.4401],\n",
       "        [1.1502, 1.2401, 1.2621, 1.5143]])"
      ]
     },
     "execution_count": 22,
     "metadata": {},
     "output_type": "execute_result"
    }
   ],
   "source": [
    "torch.add(tensor, tensor)"
   ]
  },
  {
   "cell_type": "markdown",
   "metadata": {},
   "source": [
    "### Aggregation"
   ]
  },
  {
   "cell_type": "code",
   "execution_count": 25,
   "metadata": {},
   "outputs": [
    {
     "data": {
      "text/plain": [
       "tensor([[0.1869, 0.8683, 0.4615, 0.9285],\n",
       "        [0.3724, 0.0210, 0.6983, 0.2200],\n",
       "        [0.5751, 0.6201, 0.6311, 0.7571]])"
      ]
     },
     "execution_count": 25,
     "metadata": {},
     "output_type": "execute_result"
    }
   ],
   "source": [
    "tensor"
   ]
  },
  {
   "cell_type": "code",
   "execution_count": 24,
   "metadata": {},
   "outputs": [
    {
     "data": {
      "text/plain": [
       "tensor(0.0210)"
      ]
     },
     "execution_count": 24,
     "metadata": {},
     "output_type": "execute_result"
    }
   ],
   "source": [
    "tensor.min()"
   ]
  },
  {
   "cell_type": "code",
   "execution_count": 29,
   "metadata": {},
   "outputs": [
    {
     "name": "stdout",
     "output_type": "stream",
     "text": [
      "tensor(0.0210)\n",
      "torch.return_types.min(\n",
      "values=tensor([0.1869, 0.0210, 0.4615, 0.2200]),\n",
      "indices=tensor([0, 1, 0, 1]))\n",
      "torch.return_types.min(\n",
      "values=tensor([0.1869, 0.0210, 0.5751]),\n",
      "indices=tensor([0, 1, 0]))\n"
     ]
    }
   ],
   "source": [
    "print(torch.min(tensor))\n",
    "print(torch.min(tensor, dim = 0)) # mins for each column\n",
    "print(torch.min(tensor, dim = 1)) # mins for each row"
   ]
  },
  {
   "cell_type": "code",
   "execution_count": 30,
   "metadata": {},
   "outputs": [
    {
     "name": "stdout",
     "output_type": "stream",
     "text": [
      "tensor(6.3402)\n",
      "tensor([1.1343, 1.5094, 1.7909, 1.9057])\n",
      "tensor([2.4452, 1.3117, 2.5833])\n"
     ]
    }
   ],
   "source": [
    "print(torch.sum(tensor))\n",
    "print(torch.sum(tensor, dim = 0)) # mins for each column\n",
    "print(torch.sum(tensor, dim = 1)) # mins for each row"
   ]
  },
  {
   "cell_type": "code",
   "execution_count": 31,
   "metadata": {},
   "outputs": [
    {
     "name": "stdout",
     "output_type": "stream",
     "text": [
      "tensor(0.5284)\n",
      "tensor([0.3781, 0.5031, 0.5970, 0.6352])\n",
      "tensor([0.6113, 0.3279, 0.6458])\n"
     ]
    }
   ],
   "source": [
    "# Note : mean does not work with torch.long/int64\n",
    "print(torch.mean(tensor))\n",
    "print(torch.mean(tensor, dim = 0)) # mins for each column\n",
    "print(torch.mean(tensor, dim = 1)) # mins for each row"
   ]
  },
  {
   "cell_type": "code",
   "execution_count": 44,
   "metadata": {},
   "outputs": [
    {
     "data": {
      "text/plain": [
       "tensor([ 0,  2,  4,  6,  8, 10, 12, 14, 16, 18])"
      ]
     },
     "execution_count": 44,
     "metadata": {},
     "output_type": "execute_result"
    }
   ],
   "source": [
    "new_ten = torch.arange(0, 20, 2)\n",
    "new_ten"
   ]
  },
  {
   "cell_type": "code",
   "execution_count": 45,
   "metadata": {},
   "outputs": [
    {
     "name": "stdout",
     "output_type": "stream",
     "text": [
      "tensor(0) tensor(0)\n"
     ]
    }
   ],
   "source": [
    "print(new_ten.argmin(), new_ten.min())"
   ]
  },
  {
   "cell_type": "code",
   "execution_count": 46,
   "metadata": {},
   "outputs": [
    {
     "name": "stdout",
     "output_type": "stream",
     "text": [
      "tensor(9) tensor(18)\n"
     ]
    }
   ],
   "source": [
    "print(new_ten.argmax(), new_ten.max())"
   ]
  },
  {
   "cell_type": "code",
   "execution_count": 37,
   "metadata": {},
   "outputs": [
    {
     "data": {
      "text/plain": [
       "tensor([[0.1869, 0.8683, 0.4615, 0.9285],\n",
       "        [0.3724, 0.0210, 0.6983, 0.2200],\n",
       "        [0.5751, 0.6201, 0.6311, 0.7571]])"
      ]
     },
     "execution_count": 37,
     "metadata": {},
     "output_type": "execute_result"
    }
   ],
   "source": [
    "tensor"
   ]
  },
  {
   "cell_type": "code",
   "execution_count": 38,
   "metadata": {},
   "outputs": [
    {
     "data": {
      "text/plain": [
       "tensor([0, 1, 0, 1])"
      ]
     },
     "execution_count": 38,
     "metadata": {},
     "output_type": "execute_result"
    }
   ],
   "source": [
    "tensor.argmin(dim = 0)"
   ]
  },
  {
   "cell_type": "markdown",
   "metadata": {},
   "source": [
    "### Advanced Manipulation\n",
    "\n",
    "* Reshaping - reshapes an input tensor to a given shape\n",
    "* view - return a view of an input tensor of a given shape but keep the same memory as the original tensor\n",
    "* stacking - combine multiple tensors (vertical stack or horiz stack)\n",
    "* Squeeze - removes all `1` dimensions\n",
    "* Unsqueeze - add...\n",
    "* permute - return a view of input with dimensions swapped a certain way (einops does it better)"
   ]
  },
  {
   "cell_type": "code",
   "execution_count": 50,
   "metadata": {},
   "outputs": [
    {
     "data": {
      "text/plain": [
       "tensor([[0.1869, 0.8683, 0.4615, 0.9285],\n",
       "        [0.3724, 0.0210, 0.6983, 0.2200],\n",
       "        [0.5751, 0.6201, 0.6311, 0.7571]])"
      ]
     },
     "execution_count": 50,
     "metadata": {},
     "output_type": "execute_result"
    }
   ],
   "source": [
    "tensor"
   ]
  },
  {
   "cell_type": "code",
   "execution_count": 51,
   "metadata": {},
   "outputs": [
    {
     "data": {
      "text/plain": [
       "tensor([ 0,  2,  4,  6,  8, 10, 12, 14, 16, 18])"
      ]
     },
     "execution_count": 51,
     "metadata": {},
     "output_type": "execute_result"
    }
   ],
   "source": [
    "new_ten"
   ]
  },
  {
   "cell_type": "code",
   "execution_count": 52,
   "metadata": {},
   "outputs": [
    {
     "data": {
      "text/plain": [
       "tensor([[ 0,  2,  4,  6,  8, 10, 12, 14, 16, 18]])"
      ]
     },
     "execution_count": 52,
     "metadata": {},
     "output_type": "execute_result"
    }
   ],
   "source": [
    "new_ten.reshape(1, 10)"
   ]
  },
  {
   "cell_type": "code",
   "execution_count": 53,
   "metadata": {},
   "outputs": [
    {
     "data": {
      "text/plain": [
       "tensor([[ 0,  2,  4,  6,  8],\n",
       "        [10, 12, 14, 16, 18]])"
      ]
     },
     "execution_count": 53,
     "metadata": {},
     "output_type": "execute_result"
    }
   ],
   "source": [
    "new_ten.reshape(2, 5)"
   ]
  },
  {
   "cell_type": "code",
   "execution_count": 55,
   "metadata": {},
   "outputs": [
    {
     "data": {
      "text/plain": [
       "tensor([ 0,  1,  2,  3,  4,  5,  6,  7,  8,  9, 10, 11, 12, 13, 14, 15, 16, 17,\n",
       "        18, 19])"
      ]
     },
     "execution_count": 55,
     "metadata": {},
     "output_type": "execute_result"
    }
   ],
   "source": [
    "temp = torch.arange(0, 20, 1)\n",
    "temp"
   ]
  },
  {
   "cell_type": "code",
   "execution_count": 57,
   "metadata": {},
   "outputs": [
    {
     "data": {
      "text/plain": [
       "torch.Size([20])"
      ]
     },
     "execution_count": 57,
     "metadata": {},
     "output_type": "execute_result"
    }
   ],
   "source": [
    "temp.shape"
   ]
  },
  {
   "cell_type": "code",
   "execution_count": 58,
   "metadata": {},
   "outputs": [],
   "source": [
    "z = temp.view(4, 5)"
   ]
  },
  {
   "cell_type": "code",
   "execution_count": 59,
   "metadata": {},
   "outputs": [
    {
     "data": {
      "text/plain": [
       "tensor([[ 0,  1,  2,  3,  4],\n",
       "        [ 5,  6,  7,  8,  9],\n",
       "        [10, 11, 12, 13, 14],\n",
       "        [15, 16, 17, 18, 19]])"
      ]
     },
     "execution_count": 59,
     "metadata": {},
     "output_type": "execute_result"
    }
   ],
   "source": [
    "z"
   ]
  },
  {
   "cell_type": "code",
   "execution_count": 61,
   "metadata": {},
   "outputs": [],
   "source": [
    "# Now changing z will change x since they share the memory\n",
    "\n",
    "z[0][0] = -11000"
   ]
  },
  {
   "cell_type": "code",
   "execution_count": 62,
   "metadata": {},
   "outputs": [
    {
     "data": {
      "text/plain": [
       "tensor([[-11000,      1,      2,      3,      4],\n",
       "        [     5,      6,      7,      8,      9],\n",
       "        [    10,     11,     12,     13,     14],\n",
       "        [    15,     16,     17,     18,     19]])"
      ]
     },
     "execution_count": 62,
     "metadata": {},
     "output_type": "execute_result"
    }
   ],
   "source": [
    "z"
   ]
  },
  {
   "cell_type": "code",
   "execution_count": 64,
   "metadata": {},
   "outputs": [
    {
     "data": {
      "text/plain": [
       "tensor([-11000,      1,      2,      3,      4,      5,      6,      7,      8,\n",
       "             9,     10,     11,     12,     13,     14,     15,     16,     17,\n",
       "            18,     19])"
      ]
     },
     "execution_count": 64,
     "metadata": {},
     "output_type": "execute_result"
    }
   ],
   "source": [
    "temp # see "
   ]
  },
  {
   "cell_type": "code",
   "execution_count": 65,
   "metadata": {},
   "outputs": [
    {
     "name": "stdout",
     "output_type": "stream",
     "text": [
      "tensor([[-11000,      1,      2,      3,      4,      5,      6,      7,      8,\n",
      "              9,     10,     11,     12,     13,     14,     15,     16,     17,\n",
      "             18,     19],\n",
      "        [-11000,      1,      2,      3,      4,      5,      6,      7,      8,\n",
      "              9,     10,     11,     12,     13,     14,     15,     16,     17,\n",
      "             18,     19],\n",
      "        [-11000,      1,      2,      3,      4,      5,      6,      7,      8,\n",
      "              9,     10,     11,     12,     13,     14,     15,     16,     17,\n",
      "             18,     19]])\n",
      "torch.Size([3, 20])\n"
     ]
    }
   ],
   "source": [
    "stacked = torch.stack([temp, temp, temp])\n",
    "\n",
    "print(stacked)\n",
    "print(stacked.shape)"
   ]
  },
  {
   "cell_type": "code",
   "execution_count": 67,
   "metadata": {},
   "outputs": [
    {
     "name": "stdout",
     "output_type": "stream",
     "text": [
      "tensor([[-11000,      1,      2,      3,      4,      5,      6,      7,      8,\n",
      "              9,     10,     11,     12,     13,     14,     15,     16,     17,\n",
      "             18,     19],\n",
      "        [-11000,      1,      2,      3,      4,      5,      6,      7,      8,\n",
      "              9,     10,     11,     12,     13,     14,     15,     16,     17,\n",
      "             18,     19],\n",
      "        [-11000,      1,      2,      3,      4,      5,      6,      7,      8,\n",
      "              9,     10,     11,     12,     13,     14,     15,     16,     17,\n",
      "             18,     19]])\n",
      "torch.Size([3, 20])\n"
     ]
    }
   ],
   "source": [
    "stacked = torch.stack([temp, temp, temp], dim = 0)\n",
    "\n",
    "print(stacked)\n",
    "print(stacked.shape)"
   ]
  },
  {
   "cell_type": "code",
   "execution_count": 68,
   "metadata": {},
   "outputs": [
    {
     "name": "stdout",
     "output_type": "stream",
     "text": [
      "tensor([[-11000, -11000, -11000],\n",
      "        [     1,      1,      1],\n",
      "        [     2,      2,      2],\n",
      "        [     3,      3,      3],\n",
      "        [     4,      4,      4],\n",
      "        [     5,      5,      5],\n",
      "        [     6,      6,      6],\n",
      "        [     7,      7,      7],\n",
      "        [     8,      8,      8],\n",
      "        [     9,      9,      9],\n",
      "        [    10,     10,     10],\n",
      "        [    11,     11,     11],\n",
      "        [    12,     12,     12],\n",
      "        [    13,     13,     13],\n",
      "        [    14,     14,     14],\n",
      "        [    15,     15,     15],\n",
      "        [    16,     16,     16],\n",
      "        [    17,     17,     17],\n",
      "        [    18,     18,     18],\n",
      "        [    19,     19,     19]])\n",
      "torch.Size([20, 3])\n"
     ]
    }
   ],
   "source": [
    "stacked = torch.stack([temp, temp, temp], dim = 1)\n",
    "\n",
    "print(stacked)\n",
    "print(stacked.shape)"
   ]
  },
  {
   "cell_type": "code",
   "execution_count": 71,
   "metadata": {},
   "outputs": [
    {
     "name": "stdout",
     "output_type": "stream",
     "text": [
      "tensor([[[0.1382, 0.0540, 0.3579, 0.8782],\n",
      "         [0.1722, 0.3811, 0.4313, 0.4355],\n",
      "         [0.6782, 0.2927, 0.8337, 0.1278]]])\n",
      "torch.Size([1, 3, 4])\n"
     ]
    }
   ],
   "source": [
    "tensor = torch.rand(size = (1,3,4))\n",
    "print(tensor)\n",
    "print(tensor.shape)"
   ]
  },
  {
   "cell_type": "code",
   "execution_count": 72,
   "metadata": {},
   "outputs": [
    {
     "name": "stdout",
     "output_type": "stream",
     "text": [
      "tensor([[0.1382, 0.0540, 0.3579, 0.8782],\n",
      "        [0.1722, 0.3811, 0.4313, 0.4355],\n",
      "        [0.6782, 0.2927, 0.8337, 0.1278]])\n",
      "torch.Size([3, 4])\n"
     ]
    }
   ],
   "source": [
    "tensor_squeezed = torch.squeeze(tensor)\n",
    "print(tensor_squeezed)\n",
    "print(tensor_squeezed.shape)"
   ]
  },
  {
   "cell_type": "code",
   "execution_count": 77,
   "metadata": {},
   "outputs": [
    {
     "name": "stdout",
     "output_type": "stream",
     "text": [
      "tensor([[[0.1382, 0.0540, 0.3579, 0.8782]],\n",
      "\n",
      "        [[0.1722, 0.3811, 0.4313, 0.4355]],\n",
      "\n",
      "        [[0.6782, 0.2927, 0.8337, 0.1278]]])\n",
      "torch.Size([3, 1, 4])\n"
     ]
    }
   ],
   "source": [
    "tensor_unsqueezed = torch.unsqueeze(tensor_squeezed, dim = 1)\n",
    "print(tensor_unsqueezed)\n",
    "print(tensor_unsqueezed.shape)"
   ]
  },
  {
   "cell_type": "code",
   "execution_count": 78,
   "metadata": {},
   "outputs": [
    {
     "name": "stdout",
     "output_type": "stream",
     "text": [
      "tensor([[[0.1382, 0.0540, 0.3579, 0.8782],\n",
      "         [0.1722, 0.3811, 0.4313, 0.4355],\n",
      "         [0.6782, 0.2927, 0.8337, 0.1278]]])\n",
      "torch.Size([1, 3, 4])\n"
     ]
    }
   ],
   "source": [
    "tensor_unsqueezed = torch.unsqueeze(tensor_squeezed, dim = 0)\n",
    "print(tensor_unsqueezed)\n",
    "print(tensor_unsqueezed.shape)"
   ]
  },
  {
   "cell_type": "code",
   "execution_count": 79,
   "metadata": {},
   "outputs": [
    {
     "name": "stdout",
     "output_type": "stream",
     "text": [
      "tensor([[[0.1382],\n",
      "         [0.0540],\n",
      "         [0.3579],\n",
      "         [0.8782]],\n",
      "\n",
      "        [[0.1722],\n",
      "         [0.3811],\n",
      "         [0.4313],\n",
      "         [0.4355]],\n",
      "\n",
      "        [[0.6782],\n",
      "         [0.2927],\n",
      "         [0.8337],\n",
      "         [0.1278]]])\n",
      "torch.Size([3, 4, 1])\n"
     ]
    }
   ],
   "source": [
    "tensor_unsqueezed = torch.unsqueeze(tensor_squeezed, dim = 2)\n",
    "print(tensor_unsqueezed)\n",
    "print(tensor_unsqueezed.shape)"
   ]
  },
  {
   "cell_type": "markdown",
   "metadata": {},
   "source": [
    "### Permute - returns a view of the original tensor, but with dimensions permuted"
   ]
  },
  {
   "cell_type": "code",
   "execution_count": 81,
   "metadata": {},
   "outputs": [
    {
     "name": "stdout",
     "output_type": "stream",
     "text": [
      "tensor([[[0.1382, 0.0540, 0.3579, 0.8782],\n",
      "         [0.1722, 0.3811, 0.4313, 0.4355],\n",
      "         [0.6782, 0.2927, 0.8337, 0.1278]]])\n",
      "torch.Size([1, 3, 4])\n"
     ]
    }
   ],
   "source": [
    "print(tensor)\n",
    "print(tensor.shape)"
   ]
  },
  {
   "cell_type": "code",
   "execution_count": 82,
   "metadata": {},
   "outputs": [
    {
     "name": "stdout",
     "output_type": "stream",
     "text": [
      "tensor([[[0.1382, 0.1722, 0.6782]],\n",
      "\n",
      "        [[0.0540, 0.3811, 0.2927]],\n",
      "\n",
      "        [[0.3579, 0.4313, 0.8337]],\n",
      "\n",
      "        [[0.8782, 0.4355, 0.1278]]])\n",
      "torch.Size([4, 1, 3])\n"
     ]
    }
   ],
   "source": [
    "permuted = torch.permute(tensor, dims = (2,0,1))\n",
    "print(permuted)\n",
    "print(permuted.shape)"
   ]
  },
  {
   "cell_type": "markdown",
   "metadata": {},
   "source": [
    "### Indexing "
   ]
  },
  {
   "cell_type": "code",
   "execution_count": 83,
   "metadata": {},
   "outputs": [
    {
     "data": {
      "text/plain": [
       "tensor([[[ 0.9776, -0.6092,  0.4710, -0.2308],\n",
       "         [-1.2143, -1.7231,  0.0931, -1.1269],\n",
       "         [-0.0568,  1.3903,  0.8895, -0.9656]],\n",
       "\n",
       "        [[-0.7435,  1.6968, -0.2981, -0.7637],\n",
       "         [ 0.6812,  1.8811,  1.4294,  1.7163],\n",
       "         [-1.5247,  1.1242,  1.1988, -0.7694]]])"
      ]
     },
     "execution_count": 83,
     "metadata": {},
     "output_type": "execute_result"
    }
   ],
   "source": [
    "x = torch.randn(size = (2,3,4))\n",
    "x"
   ]
  },
  {
   "cell_type": "code",
   "execution_count": 84,
   "metadata": {},
   "outputs": [
    {
     "data": {
      "text/plain": [
       "tensor([[ 0.9776, -0.6092,  0.4710, -0.2308],\n",
       "        [-1.2143, -1.7231,  0.0931, -1.1269],\n",
       "        [-0.0568,  1.3903,  0.8895, -0.9656]])"
      ]
     },
     "execution_count": 84,
     "metadata": {},
     "output_type": "execute_result"
    }
   ],
   "source": [
    "x[0]"
   ]
  },
  {
   "cell_type": "code",
   "execution_count": 85,
   "metadata": {},
   "outputs": [
    {
     "data": {
      "text/plain": [
       "tensor([[-1.2143, -1.7231,  0.0931, -1.1269],\n",
       "        [ 0.6812,  1.8811,  1.4294,  1.7163]])"
      ]
     },
     "execution_count": 85,
     "metadata": {},
     "output_type": "execute_result"
    }
   ],
   "source": [
    "x[:, 1]"
   ]
  },
  {
   "cell_type": "code",
   "execution_count": 86,
   "metadata": {},
   "outputs": [
    {
     "data": {
      "text/plain": [
       "tensor([[-0.6092, -1.7231,  1.3903],\n",
       "        [ 1.6968,  1.8811,  1.1242]])"
      ]
     },
     "execution_count": 86,
     "metadata": {},
     "output_type": "execute_result"
    }
   ],
   "source": [
    "x[:, :, 1]"
   ]
  },
  {
   "cell_type": "code",
   "execution_count": 87,
   "metadata": {},
   "outputs": [
    {
     "data": {
      "text/plain": [
       "torch.Size([2, 3])"
      ]
     },
     "execution_count": 87,
     "metadata": {},
     "output_type": "execute_result"
    }
   ],
   "source": [
    "x[:, :, 1].shape"
   ]
  },
  {
   "cell_type": "markdown",
   "metadata": {},
   "source": [
    "## Numpy with Torch"
   ]
  },
  {
   "cell_type": "code",
   "execution_count": 88,
   "metadata": {},
   "outputs": [
    {
     "data": {
      "text/plain": [
       "tensor([1., 2., 3., 4., 5., 6., 7.], dtype=torch.float64)"
      ]
     },
     "execution_count": 88,
     "metadata": {},
     "output_type": "execute_result"
    }
   ],
   "source": [
    "import numpy as np\n",
    "\n",
    "np_arr = np.arange(1.0, 8.0) # default for np is float64, but for torch is 32.\n",
    "torch_arr = torch.from_numpy(np_arr)\n",
    "torch_arr"
   ]
  },
  {
   "cell_type": "code",
   "execution_count": 89,
   "metadata": {},
   "outputs": [
    {
     "data": {
      "text/plain": [
       "tensor([1., 2., 3., 4., 5., 6., 7.])"
      ]
     },
     "execution_count": 89,
     "metadata": {},
     "output_type": "execute_result"
    }
   ],
   "source": [
    "np_arr = np.arange(1.0, 8.0) # default for np is float64, but for torch is 32.\n",
    "torch_arr = torch.from_numpy(np_arr).type(torch.float32)\n",
    "torch_arr"
   ]
  },
  {
   "cell_type": "code",
   "execution_count": 90,
   "metadata": {},
   "outputs": [
    {
     "data": {
      "text/plain": [
       "array([1., 2., 3., 4., 5., 6., 7.], dtype=float32)"
      ]
     },
     "execution_count": 90,
     "metadata": {},
     "output_type": "execute_result"
    }
   ],
   "source": [
    "np_arr = torch_arr.numpy()\n",
    "np_arr"
   ]
  },
  {
   "cell_type": "markdown",
   "metadata": {},
   "source": [
    "## Reproducibility"
   ]
  },
  {
   "cell_type": "code",
   "execution_count": 91,
   "metadata": {},
   "outputs": [
    {
     "data": {
      "text/plain": [
       "tensor([[0.5347, 0.4452, 0.7513],\n",
       "        [0.8239, 0.1887, 0.3627],\n",
       "        [0.1705, 0.3438, 0.1283]])"
      ]
     },
     "execution_count": 91,
     "metadata": {},
     "output_type": "execute_result"
    }
   ],
   "source": [
    "torch.rand(3,3)"
   ]
  },
  {
   "cell_type": "code",
   "execution_count": 97,
   "metadata": {},
   "outputs": [
    {
     "data": {
      "text/plain": [
       "tensor([[0.8823, 0.9150, 0.3829],\n",
       "        [0.9593, 0.3904, 0.6009],\n",
       "        [0.2566, 0.7936, 0.9408]])"
      ]
     },
     "execution_count": 97,
     "metadata": {},
     "output_type": "execute_result"
    }
   ],
   "source": [
    "RANDOM_SEED = 42\n",
    "torch.manual_seed(RANDOM_SEED) # use everytime when creating a random\n",
    "torch.rand(size = (3,3))"
   ]
  },
  {
   "cell_type": "markdown",
   "metadata": {},
   "source": [
    "## Accessing the GPU"
   ]
  },
  {
   "cell_type": "code",
   "execution_count": 99,
   "metadata": {},
   "outputs": [
    {
     "data": {
      "text/plain": [
       "True"
      ]
     },
     "execution_count": 99,
     "metadata": {},
     "output_type": "execute_result"
    }
   ],
   "source": [
    "torch.cuda.is_available()"
   ]
  },
  {
   "cell_type": "code",
   "execution_count": 100,
   "metadata": {},
   "outputs": [],
   "source": [
    "tensor = torch.rand(\n",
    "    size = (3,4),\n",
    "    device = torch.device(\"cuda\"),\n",
    "    dtype = torch.float16,\n",
    "    requires_grad= False\n",
    ")"
   ]
  },
  {
   "cell_type": "code",
   "execution_count": 101,
   "metadata": {},
   "outputs": [
    {
     "data": {
      "text/plain": [
       "tensor([[0.6128, 0.0101, 0.3984, 0.0403],\n",
       "        [0.1562, 0.4824, 0.7363, 0.4060],\n",
       "        [0.5190, 0.2866, 0.2416, 0.9229]], device='cuda:0',\n",
       "       dtype=torch.float16)"
      ]
     },
     "execution_count": 101,
     "metadata": {},
     "output_type": "execute_result"
    }
   ],
   "source": [
    "tensor"
   ]
  },
  {
   "cell_type": "code",
   "execution_count": 102,
   "metadata": {},
   "outputs": [
    {
     "data": {
      "text/plain": [
       "1"
      ]
     },
     "execution_count": 102,
     "metadata": {},
     "output_type": "execute_result"
    }
   ],
   "source": [
    "torch.cuda.device_count()"
   ]
  },
  {
   "cell_type": "code",
   "execution_count": 106,
   "metadata": {},
   "outputs": [
    {
     "data": {
      "text/plain": [
       "(tensor([[0.7764, 0.6187, 0.4058, 0.7461],\n",
       "         [0.5635, 0.7363, 0.8994, 0.3154],\n",
       "         [0.0098, 0.4102, 0.0811, 0.6333]], device='cuda:0',\n",
       "        dtype=torch.float16),\n",
       " device(type='cuda', index=0))"
      ]
     },
     "execution_count": 106,
     "metadata": {},
     "output_type": "execute_result"
    }
   ],
   "source": [
    "# Move a regular tensor to GPU\n",
    "tensor = torch.rand(\n",
    "    size = (3,4),\n",
    "    device = torch.device(\"cpu\"), # no need technically\n",
    "    dtype = torch.float16,\n",
    "    requires_grad= False\n",
    ")\n",
    "\n",
    "device = torch.device(\"cuda\") if torch.cuda.is_available() else torch.device(\"cpu\")\n",
    "\n",
    "tensor = tensor.to(device)\n",
    "\n",
    "tensor, tensor.device"
   ]
  },
  {
   "cell_type": "code",
   "execution_count": 107,
   "metadata": {},
   "outputs": [
    {
     "data": {
      "text/plain": [
       "array([[0.7764  , 0.6187  , 0.4058  , 0.746   ],\n",
       "       [0.5635  , 0.7363  , 0.8994  , 0.3154  ],\n",
       "       [0.009766, 0.4102  , 0.08105 , 0.6333  ]], dtype=float16)"
      ]
     },
     "execution_count": 107,
     "metadata": {},
     "output_type": "execute_result"
    }
   ],
   "source": [
    "# How do we move gpu tensors to numpy when needed \n",
    "\n",
    "cpu_tens = tensor.cpu()\n",
    "np_tens = cpu_tens.numpy()\n",
    "np_tens"
   ]
  },
  {
   "cell_type": "code",
   "execution_count": null,
   "metadata": {},
   "outputs": [],
   "source": []
  },
  {
   "cell_type": "code",
   "execution_count": null,
   "metadata": {},
   "outputs": [],
   "source": []
  },
  {
   "cell_type": "code",
   "execution_count": null,
   "metadata": {},
   "outputs": [],
   "source": []
  }
 ],
 "metadata": {
  "kernelspec": {
   "display_name": "torch-env",
   "language": "python",
   "name": "python3"
  },
  "language_info": {
   "codemirror_mode": {
    "name": "ipython",
    "version": 3
   },
   "file_extension": ".py",
   "mimetype": "text/x-python",
   "name": "python",
   "nbconvert_exporter": "python",
   "pygments_lexer": "ipython3",
   "version": "3.10.13"
  }
 },
 "nbformat": 4,
 "nbformat_minor": 2
}
